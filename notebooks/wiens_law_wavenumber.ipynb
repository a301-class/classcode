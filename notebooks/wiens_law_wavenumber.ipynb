{
 "metadata": {
  "name": "",
  "signature": "sha256:9b41e2ed6dc77dbf75991502d22bf6490523a5a1328774e315571be9ee316987"
 },
 "nbformat": 3,
 "nbformat_minor": 0,
 "worksheets": [
  {
   "cells": [
    {
     "cell_type": "heading",
     "level": 1,
     "metadata": {},
     "source": [
      "Modify the cells below so that they use lib/planck.planckwavenum to find the\n",
      "wavenumber nmax at which the planck function is maximum.  Note:  the\n",
      "peak wavenumber is not equal to 1/(peak wavelength) !!!"
     ]
    },
    {
     "cell_type": "code",
     "collapsed": false,
     "input": [
      "import numpy as np\n",
      "from matplotlib import pyplot as plt"
     ],
     "language": "python",
     "metadata": {},
     "outputs": [],
     "prompt_number": ""
    },
    {
     "cell_type": "code",
     "collapsed": false,
     "input": [
      "%matplotlib inline"
     ],
     "language": "python",
     "metadata": {},
     "outputs": [],
     "prompt_number": ""
    },
    {
     "cell_type": "code",
     "collapsed": false,
     "input": [
      "c=2.99792458e+08  #m/s -- speed of light in vacumn\n",
      "h=6.62606876e-34  #J s  -- Planck's constant\n",
      "kb=1.3806503e-23  # J/K  -- Boltzman's constant\n",
      "\n",
      "def planckwavelen(wavel,Temp):\n",
      "    \"\"\"input wavelength in microns and Temp in K, output\n",
      "    bbr in W/m^2/micron\n",
      "    \"\"\"\n",
      "    wavel=wavel*1.e-6  #convert to meters\n",
      "    c1=2.*h*c**2.\n",
      "    c2=h*c/kb\n",
      "    Elambda=1.e-6*np.pi*c1/(wavel**5.*(np.exp(c2/(wavel*Temp)) -1))\n",
      "    return Elambda\n"
     ],
     "language": "python",
     "metadata": {},
     "outputs": [],
     "prompt_number": ""
    },
    {
     "cell_type": "code",
     "collapsed": false,
     "input": [
      "the_wavelengths=np.linspace(0.1,60,5000) #microns\n",
      "the_temp=300 #K\n",
      "flux=planckwavelen(the_wavelengths,the_temp)\n",
      "fig1=plt.figure(1)\n",
      "axis1=fig1.add_subplot(1,1,1)\n",
      "axis1.plot(the_wavelengths,flux)"
     ],
     "language": "python",
     "metadata": {},
     "outputs": [],
     "prompt_number": ""
    },
    {
     "cell_type": "code",
     "collapsed": false,
     "input": [
      "dlambda=np.diff(the_wavelengths)\n",
      "dflux=np.diff(flux)\n",
      "the_deriv=dflux/dlambda\n",
      "fig2,axis2=plt.subplots(1,1)\n",
      "axis2.plot(the_wavelengths[:-1],the_deriv,label=\"approx derivative\")\n",
      "wiens_law=2897/the_temp\n",
      "axis2.plot(wiens_law,0,'k+',markersize=20,label=\"Wien's law\")\n",
      "axis2.legend()\n",
      "axis2.set_title(\"Wien's law demonstration\")\n",
      "axis2.set_ylabel(\"$dE_lambda/dlambda\\ (W/m^2/micron/micron)$\")\n",
      "axis2.set_xlabel('wavelength lambda (microns)')\n",
      "#savefig('wien_answer.png')"
     ],
     "language": "python",
     "metadata": {},
     "outputs": [],
     "prompt_number": ""
    }
   ],
   "metadata": {}
  }
 ]
}