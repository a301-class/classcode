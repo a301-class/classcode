{
 "metadata": {
  "name": "",
  "signature": "sha256:0c9d04fc4dd1a17c7ddf1f076ef999791957d6130c8526043c2c58d12c5cd975"
 },
 "nbformat": 3,
 "nbformat_minor": 0,
 "worksheets": [
  {
   "cells": [
    {
     "cell_type": "heading",
     "level": 4,
     "metadata": {},
     "source": [
      "A satellite is in orbit 400 km above the surface, with a nadir pixel with a radius of 50 km. Use the approach of the geometry/radiance lecture to integrate the solid angle subtended by the satellite telescope. (Assume that the surface is flat and pixel is circular).  Here's the figure\n",
      "with the geometry:"
     ]
    },
    {
     "cell_type": "code",
     "collapsed": false,
     "input": [
      "img = plt.imread('quiz1_sat.png')\n",
      "fig,axis=subplots(1,1)\n",
      "the_img=axis.imshow(img)\n",
      "the_img.set_cmap('gray')"
     ],
     "language": "python",
     "metadata": {},
     "outputs": [],
     "prompt_number": ""
    },
    {
     "cell_type": "markdown",
     "metadata": {},
     "source": [
      "Q1)  What is the field of view of the satellite telescope, in steradians?  (Use python to do the calculation below)"
     ]
    },
    {
     "cell_type": "code",
     "collapsed": false,
     "input": [],
     "language": "python",
     "metadata": {},
     "outputs": []
    },
    {
     "cell_type": "heading",
     "level": 4,
     "metadata": {},
     "source": [
      "Q2: Suppose the satellite is observing the ground (which is emitting as a blackbody\n",
      "at a temperature of 300 K) with the field of view calculated in Q1.  What\n",
      "is the flux ($W\\, m^{-2}$) reaching the satellite from that pixel, assuming no \n",
      "atmospheric absorption/emission,\n",
      "in the wavelength range $10\\ \\mu m < \\lambda < 12\\ \\mu m$?  (fill in the python commands in the\n",
      "cell below -- I used planckwavelen in the planck.py module for my answer)"
     ]
    },
    {
     "cell_type": "code",
     "collapsed": false,
     "input": [],
     "language": "python",
     "metadata": {},
     "outputs": []
    }
   ],
   "metadata": {}
  }
 ]
}