{
 "metadata": {
  "name": "",
  "signature": "sha256:a342576ab67726c257290df7c192634cdf14bf126f9c569d009b45299434da0f"
 },
 "nbformat": 3,
 "nbformat_minor": 0,
 "worksheets": [
  {
   "cells": [
    {
     "cell_type": "heading",
     "level": 1,
     "metadata": {},
     "source": [
      "Assignment: write a program in any language that:"
     ]
    },
    {
     "cell_type": "markdown",
     "metadata": {},
     "source": [
      "1. opens a file named input.txt with a line of two numbers in the format:\n",
      "   \n",
      "   1000;-3\n",
      "\n",
      "   where both numbers are integers, the first positive and the second negative\n",
      "\n",
      "2. assigns those two values to the variables:  total_count and step_size, respectively\n",
      "\n",
      "3. loops from total_count to 0 by step_size, printing the loop integer for each step"
     ]
    },
    {
     "cell_type": "heading",
     "level": 2,
     "metadata": {},
     "source": [
      "I) Naive approach"
     ]
    },
    {
     "cell_type": "markdown",
     "metadata": {},
     "source": [
      "Step 1: write out a text file named input.txt using the IPython file \"magic\""
     ]
    },
    {
     "cell_type": "code",
     "collapsed": false,
     "input": [
      "# the % sign tells IPython that you want to execute an IPython, not a Python command\n",
      "# these functions are called \"magics\"  -- the file magic writes the rest of the cell\n",
      "# out to a named file  -- there is another magic called %%load that reads a file into a cell\n",
      "%%file input.txt\n",
      "20;-3"
     ],
     "language": "python",
     "metadata": {},
     "outputs": [],
     "prompt_number": ""
    },
    {
     "cell_type": "markdown",
     "metadata": {},
     "source": [
      "Step 2: open the file and read a line into a variable"
     ]
    },
    {
     "cell_type": "code",
     "collapsed": false,
     "input": [
      "f=open('input.txt','r')\n",
      "firstline=f.readline()"
     ],
     "language": "python",
     "metadata": {},
     "outputs": [],
     "prompt_number": ""
    },
    {
     "cell_type": "markdown",
     "metadata": {},
     "source": [
      "Step 3: split the line and assign the values to variables,\n",
      "converting strings to ints"
     ]
    },
    {
     "cell_type": "code",
     "collapsed": false,
     "input": [
      "total_count,step_size=firstline.split(';')\n",
      "total_count,step_size=int(total_count),int(step_size)\n",
      "print(\"got total_count and step_size values of {}, {}\".format(total_count,step_size))"
     ],
     "language": "python",
     "metadata": {},
     "outputs": [],
     "prompt_number": ""
    },
    {
     "cell_type": "markdown",
     "metadata": {},
     "source": [
      "Step 4: Use the range function to get a list of integers to print"
     ]
    },
    {
     "cell_type": "code",
     "collapsed": false,
     "input": [
      "help(range)"
     ],
     "language": "python",
     "metadata": {},
     "outputs": [],
     "prompt_number": ""
    },
    {
     "cell_type": "code",
     "collapsed": false,
     "input": [
      "the_ints=range(total_count,0,step_size)"
     ],
     "language": "python",
     "metadata": {},
     "outputs": [],
     "prompt_number": ""
    },
    {
     "cell_type": "markdown",
     "metadata": {},
     "source": [
      "Step 5: loop and print"
     ]
    },
    {
     "cell_type": "code",
     "collapsed": false,
     "input": [
      "for the_num in the_ints:\n",
      "    print the_num"
     ],
     "language": "python",
     "metadata": {},
     "outputs": [],
     "prompt_number": ""
    },
    {
     "cell_type": "code",
     "collapsed": false,
     "input": [],
     "language": "python",
     "metadata": {},
     "outputs": [],
     "prompt_number": ""
    }
   ],
   "metadata": {}
  }
 ]
}