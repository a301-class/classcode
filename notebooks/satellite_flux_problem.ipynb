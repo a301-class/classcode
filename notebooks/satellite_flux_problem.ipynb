{
 "metadata": {
  "name": "",
  "signature": "sha256:1231fa05c93e86572b44997e5c11c9fd8cbe926dc0a0e34b2eea0cd2013e9c35"
 },
 "nbformat": 3,
 "nbformat_minor": 0,
 "worksheets": [
  {
   "cells": [
    {
     "cell_type": "code",
     "collapsed": false,
     "input": [
      "from matplotlib import pyplot as plt"
     ],
     "language": "python",
     "metadata": {},
     "outputs": [],
     "prompt_number": ""
    },
    {
     "cell_type": "code",
     "collapsed": false,
     "input": [
      "%matplotlib inline"
     ],
     "language": "python",
     "metadata": {},
     "outputs": [],
     "prompt_number": ""
    },
    {
     "cell_type": "heading",
     "level": 4,
     "metadata": {},
     "source": [
      "A satellite is in orbit 400 km above the surface, with a nadir pixel with a radius of 50 km. Use the approach of the geometry/radiance lecture to integrate the solid angle subtended by the satellite telescope. (Assume that the surface is flat and pixel is circular).  Here's the figure\n",
      "with the geometry:"
     ]
    },
    {
     "cell_type": "code",
     "collapsed": false,
     "input": [
      "img = plt.imread('images/sat_problem.png')\n",
      "fig,axis=plt.subplots(1,1,figsize=(6,6))\n",
      "the_img=axis.imshow(img)\n",
      "the_img.set_cmap('gray')"
     ],
     "language": "python",
     "metadata": {},
     "outputs": [],
     "prompt_number": ""
    },
    {
     "cell_type": "markdown",
     "metadata": {},
     "source": [
      "Q1)  What is the field of view of the satellite telescope, in steradians?  (Use python to do the calculation below)"
     ]
    },
    {
     "cell_type": "code",
     "collapsed": false,
     "input": [],
     "language": "python",
     "metadata": {},
     "outputs": []
    },
    {
     "cell_type": "heading",
     "level": 4,
     "metadata": {},
     "source": [
      "Q2: Suppose the satellite is observing the ground (which is emitting as a blackbody\n",
      "at a temperature of 300 K) with the field of view calculated in Q1.  What\n",
      "is the flux ($W\\, m^{-2}$) reaching the satellite from that pixel, assuming no \n",
      "atmospheric absorption/emission,\n",
      "in the wavelength range $10\\ \\mu m < \\lambda < 12\\ \\mu m$?  (fill in the python commands in the\n",
      "cell below -- I used planckwavelen in the planck.py module for my answer)"
     ]
    },
    {
     "cell_type": "code",
     "collapsed": false,
     "input": [],
     "language": "python",
     "metadata": {},
     "outputs": []
    }
   ],
   "metadata": {}
  }
 ]
}