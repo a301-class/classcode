{
 "metadata": {
  "name": "",
  "signature": "sha256:7c3f12c49ce04eae40fd608912b9a0cdc871a389d52879faf261788bead260a5"
 },
 "nbformat": 3,
 "nbformat_minor": 0,
 "worksheets": [
  {
   "cells": [
    {
     "cell_type": "heading",
     "level": 4,
     "metadata": {},
     "source": [
      "On day 2 we looked at integrals -- this notebook considers derivatives"
     ]
    },
    {
     "cell_type": "code",
     "collapsed": false,
     "input": [
      "from matplotlib import pyplot as plt\n",
      "import numpy as np"
     ],
     "language": "python",
     "metadata": {},
     "outputs": [],
     "prompt_number": ""
    },
    {
     "cell_type": "markdown",
     "metadata": {},
     "source": [
      "Specifically, just as I compared a numerical approximation and and exact\n",
      "integral on day 2, here "
     ]
    },
    {
     "cell_type": "markdown",
     "metadata": {},
     "source": [
      "Calculate the numerical derivitive of $y=5 x^3 - 3 x^2 + 4 x - 7$ and\n",
      "compare it to the exact answer $yprime = 15 x^2 - 6 x + 4$ for the range\n",
      "$0 \\le x < 10$"
     ]
    },
    {
     "cell_type": "markdown",
     "metadata": {},
     "source": [
      "start by defining the function and its derivative"
     ]
    },
    {
     "cell_type": "code",
     "collapsed": false,
     "input": [
      "def my_func(x):\n",
      "    return 5*x**3. - 3*x**2. + 4*x - 7"
     ],
     "language": "python",
     "metadata": {},
     "outputs": [],
     "prompt_number": ""
    },
    {
     "cell_type": "markdown",
     "metadata": {},
     "source": [
      "Now take the derivitive of my_func using the usual rule"
     ]
    },
    {
     "cell_type": "code",
     "collapsed": false,
     "input": [
      "def analytic_deriv(x):\n",
      "    return 15*x**2. - 6*x + 4"
     ],
     "language": "python",
     "metadata": {},
     "outputs": [],
     "prompt_number": ""
    },
    {
     "cell_type": "markdown",
     "metadata": {},
     "source": [
      "now evaluate it for 200 values of x between 0 and 10"
     ]
    },
    {
     "cell_type": "code",
     "collapsed": false,
     "input": [
      "xvec=np.linspace(0,10,200)"
     ],
     "language": "python",
     "metadata": {},
     "outputs": [],
     "prompt_number": ""
    },
    {
     "cell_type": "code",
     "collapsed": false,
     "input": [
      "y=my_func(xvec)"
     ],
     "language": "python",
     "metadata": {},
     "outputs": [],
     "prompt_number": ""
    },
    {
     "cell_type": "heading",
     "level": 4,
     "metadata": {},
     "source": [
      "On day 2 we discussed \"handle graphics\".  Here is an example of how\n",
      "to get handles to a figure and an axis, so that you can add elements\n",
      "to a plot. "
     ]
    },
    {
     "cell_type": "markdown",
     "metadata": {},
     "source": [
      "I'm using the \"subplots\" command to get the figure and axis objects so I can\n",
      "reuse them in later cells"
     ]
    },
    {
     "cell_type": "code",
     "collapsed": false,
     "input": [
      "fig1,axis1=plt.subplots(1,1) #we're asking for a single graph (1 column, 1 row) on the figure\n",
      "axis1.plot(xvec,y,label='line1')  #put a plot on axis 1"
     ],
     "language": "python",
     "metadata": {},
     "outputs": [],
     "prompt_number": ""
    },
    {
     "cell_type": "code",
     "collapsed": false,
     "input": [
      "axis1.set_title('add a new title')\n",
      "axis1.set_xlabel('add an xlabel')\n",
      "axis1.set_ylabel('add a ylabel')\n",
      "display(fig1)  #you need to tell ipython to redisplay the figure\n"
     ],
     "language": "python",
     "metadata": {},
     "outputs": [],
     "prompt_number": ""
    },
    {
     "cell_type": "code",
     "collapsed": false,
     "input": [
      "#place a cross at a particular location, and give it a\n",
      "#label so it can be added to the legend\n",
      "axis1.plot(6,1000,'+',markersize=20,label='data point')\n",
      "axis1.legend() #add a legend with the line1 label given in the plot call above\n",
      "display(fig1)"
     ],
     "language": "python",
     "metadata": {},
     "outputs": []
    },
    {
     "cell_type": "markdown",
     "metadata": {},
     "source": [
      "Now plot the numerical and analytic derivatives on top of each other\n",
      "to show that they agree.   To calculate the numerical derivitive, just\n",
      "use the diff function to find the approximate value $deriv=\\frac{\\Delta y}{\\Delta x}$"
     ]
    },
    {
     "cell_type": "code",
     "collapsed": false,
     "input": [
      "deltay=diff(y)\n",
      "deltax=diff(xvec)\n",
      "approx_deriv=deltay/deltax\n",
      "fig2,axis2=subplots(1,1)\n",
      "axis2.plot(xvec[:-1],approx_deriv,label='approx') #remember that diff() chops one off the length\n",
      "                                                  #of xvec"
     ],
     "language": "python",
     "metadata": {},
     "outputs": []
    },
    {
     "cell_type": "markdown",
     "metadata": {},
     "source": [
      "now add the analytic derivative to the plot"
     ]
    },
    {
     "cell_type": "code",
     "collapsed": false,
     "input": [
      "exact_deriv=analytic_deriv(xvec)\n",
      "axis2.plot(xvec,exact_deriv,'k+',label='exact') #'k+' means black crosses, as in matlab\n",
      "axis2.legend()\n",
      "display(fig2)"
     ],
     "language": "python",
     "metadata": {},
     "outputs": []
    },
    {
     "cell_type": "markdown",
     "metadata": {},
     "source": [
      "plot the difference $exact - approx$ so that we can better distinguish the size of the error"
     ]
    },
    {
     "cell_type": "code",
     "collapsed": false,
     "input": [
      "fig3,axis3=subplots(1,1)\n",
      "axis3.plot(xvec[:-1],exact_deriv[:-1] - approx_deriv,'k*')"
     ],
     "language": "python",
     "metadata": {},
     "outputs": []
    },
    {
     "cell_type": "heading",
     "level": 4,
     "metadata": {},
     "source": [
      "Day 5 assignment"
     ]
    },
    {
     "cell_type": "markdown",
     "metadata": {},
     "source": [
      "Read Stull page 37 on Wien's law, which says that the peak of the Planck function\n",
      "occurs at a wavelength given by $\\lambda_{max} = \\frac{a}{T}$"
     ]
    },
    {
     "cell_type": "markdown",
     "metadata": {},
     "source": [
      "Show that this wavelength is in fact the maximum by calculating the derivative\n",
      "$\\frac{dE^*_\\lambda}{d \\lambda}$ and then plotting it vs. wavelength,"
     ]
    },
    {
     "cell_type": "markdown",
     "metadata": {},
     "source": [
      "showing that it passes through zero at $\\lambda_{max}$ (add \n",
      "$\\lambda_{max}$ on the graph as a large cross).   That is: write a notebook that starts\n",
      "with the planck function from last time:"
     ]
    },
    {
     "cell_type": "code",
     "collapsed": false,
     "input": [
      "c=2.99792458e+08  #m/s -- speed of light in vacumn\n",
      "h=6.62606876e-34  #J s  -- Planck's constant\n",
      "kb=1.3806503e-23  # J/K  -- Boltzman's constant\n",
      "\n",
      " \n",
      "\n",
      "def planckwavelen(wavel,Temp):\n",
      "    \"\"\"input wavelength in microns and Temp in K, output\n",
      "    bbr in W/m^2/micron\n",
      "    \"\"\"\n",
      "\n",
      "    wavel=wavel*1.e-6  #convert to meters\n",
      "    c1=2.*h*c**2.\n",
      "    c2=h*c/kb\n",
      "    Elambda=1.e-6*pi*c1/(wavel**5.*(np.exp(c2/(wavel*Temp)) -1))\n",
      "    return Elambda\n",
      "\n",
      " "
     ],
     "language": "python",
     "metadata": {},
     "outputs": []
    }
   ],
   "metadata": {}
  }
 ]
}